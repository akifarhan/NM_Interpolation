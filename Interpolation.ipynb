{
  "nbformat": 4,
  "nbformat_minor": 0,
  "metadata": {
    "colab": {
      "name": "Interpolation.ipynb",
      "provenance": [],
      "collapsed_sections": [],
      "include_colab_link": true
    },
    "kernelspec": {
      "name": "python3",
      "display_name": "Python 3"
    }
  },
  "cells": [
    {
      "cell_type": "markdown",
      "metadata": {
        "id": "view-in-github",
        "colab_type": "text"
      },
      "source": [
        "<a href=\"https://colab.research.google.com/github/akifarhan/NM_Interpolation/blob/master/Interpolation.ipynb\" target=\"_parent\"><img src=\"https://colab.research.google.com/assets/colab-badge.svg\" alt=\"Open In Colab\"/></a>"
      ]
    },
    {
      "cell_type": "code",
      "metadata": {
        "id": "PPtn2rt6soaa",
        "colab_type": "code",
        "colab": {}
      },
      "source": [
        "import numpy as np\n",
        "from fractions import Fraction as frac"
      ],
      "execution_count": 0,
      "outputs": []
    },
    {
      "cell_type": "markdown",
      "metadata": {
        "id": "H4ZKfaSTH3s1",
        "colab_type": "text"
      },
      "source": [
        "# User input\n",
        "\n",
        "*   n: number of terms\n",
        "*   x: array of x points\n",
        "*   y: array of y points\n",
        "\n",
        "\n",
        "\n",
        "\n",
        "\n",
        "\n",
        "\n"
      ]
    },
    {
      "cell_type": "code",
      "metadata": {
        "id": "rEQtMQUbup-I",
        "colab_type": "code",
        "outputId": "d04f30dd-d4cf-4f58-a87d-0164420b0bd4",
        "colab": {
          "base_uri": "https://localhost:8080/",
          "height": 84
        }
      },
      "source": [
        "x = []\n",
        "y = []\n",
        "\n",
        "print(\"Enter the values of x: (eg: 1 1/2 3 5)\")\n",
        "x = [i for i in input().split()]\n",
        "\n",
        "print(\"Enter the values of y: (eg: 3 -10 2 3/2)\")\n",
        "y = [i for i in input().split()]\n",
        "\n",
        "def changeArrayType(arr):\n",
        "  for i in range(0, len(arr)):\n",
        "    if '/' in arr[i]:\n",
        "      arr[i] = frac(arr[i])\n",
        "    else:\n",
        "      arr[i] = int(arr[i])\n",
        "  return arr\n",
        "\n",
        "x = np.array(changeArrayType(x))\n",
        "y = np.array(changeArrayType(y))"
      ],
      "execution_count": 0,
      "outputs": [
        {
          "output_type": "stream",
          "text": [
            "Enter the values of x: (eg: 1 1/2 3 5)\n",
            "1 1/2 3 5\n",
            "Enter the values of y: (eg: 3 -10 2 3/2)\n",
            "3 -10 2 3/2\n"
          ],
          "name": "stdout"
        }
      ]
    },
    {
      "cell_type": "markdown",
      "metadata": {
        "id": "vjsD0y9Roi2R",
        "colab_type": "text"
      },
      "source": [
        "# Calculate constant\n",
        "\n"
      ]
    },
    {
      "cell_type": "code",
      "metadata": {
        "id": "Et5p9MaelLsc",
        "colab_type": "code",
        "outputId": "2c6ece74-9ddd-4087-b05e-acc97774ed94",
        "colab": {
          "base_uri": "https://localhost:8080/",
          "height": 34
        }
      },
      "source": [
        "def getConstant(x,y) :\n",
        "  n = np.shape(y)[0]\n",
        "  pyramid = np.zeros([n,n])\n",
        "  pyramid = pyramid.astype('object')\n",
        "  pyramid[::,0] = y\n",
        "  for j in range(1,n):\n",
        "    for i in range(n-j):\n",
        "      pyramid[i][j] = frac((frac(pyramid[i+1][j-1]) - frac(pyramid[i][j-1])),(frac(x[i+j]) - frac(x[i])))\n",
        "  return pyramid[0]\n",
        "\n",
        "constant_vector = getConstant(x,y)\n",
        "print(constant_vector)\n"
      ],
      "execution_count": 0,
      "outputs": [
        {
          "output_type": "stream",
          "text": [
            "[3 Fraction(26, 1) Fraction(-53, 5) Fraction(853, 360)]\n"
          ],
          "name": "stdout"
        }
      ]
    },
    {
      "cell_type": "code",
      "metadata": {
        "id": "JBMVlFa_5HxW",
        "colab_type": "code",
        "outputId": "c60bfea8-0d80-43ed-93d5-942b09532c4d",
        "colab": {
          "base_uri": "https://localhost:8080/",
          "height": 50
        }
      },
      "source": [
        "print(frac('5/3'))\n",
        "str(frac('5/3'))"
      ],
      "execution_count": 0,
      "outputs": [
        {
          "output_type": "stream",
          "text": [
            "5/3\n"
          ],
          "name": "stdout"
        },
        {
          "output_type": "execute_result",
          "data": {
            "text/plain": [
              "'5/3'"
            ]
          },
          "metadata": {
            "tags": []
          },
          "execution_count": 85
        }
      ]
    },
    {
      "cell_type": "code",
      "metadata": {
        "id": "fnSlGUJ65_jF",
        "colab_type": "code",
        "outputId": "c5804923-e8f2-4a5f-e074-fb66df8c7e6e",
        "colab": {
          "base_uri": "https://localhost:8080/",
          "height": 34
        }
      },
      "source": [
        "\"frac('5/3')\""
      ],
      "execution_count": 0,
      "outputs": [
        {
          "output_type": "execute_result",
          "data": {
            "text/plain": [
              "\"frac('5/3')\""
            ]
          },
          "metadata": {
            "tags": []
          },
          "execution_count": 87
        }
      ]
    },
    {
      "cell_type": "markdown",
      "metadata": {
        "id": "oj2KAQ1ko3Kg",
        "colab_type": "text"
      },
      "source": [
        "# Formula\n",
        "\n",
        "\n"
      ]
    },
    {
      "cell_type": "code",
      "metadata": {
        "id": "Uf9b2wmcrHZ6",
        "colab_type": "code",
        "outputId": "b2fae9e9-ffef-4334-d66f-5173a3f7d7ad",
        "colab": {
          "base_uri": "https://localhost:8080/",
          "height": 34
        }
      },
      "source": [
        "print(\"Formula: \", end = '')\n",
        "formula=[]\n",
        "for index , coef in enumerate(constant_vector):\n",
        "    coef = str(coef)\n",
        "    print(f'{coef}', end = \"\")\n",
        "    try:\n",
        "      if '/' in coef:\n",
        "        # print(f\"frac('{coef}')\")\n",
        "        formula.append(f\"frac('{coef}')\")\n",
        "      else:\n",
        "        formula.append(f'{coef}')\n",
        "    except:\n",
        "      print('err')\n",
        "      formula.append(f'{coef}')\n",
        "    \n",
        "    if index > 0:\n",
        "        for i in range(index):\n",
        "            print(f'(x - {x[i]})', end = '')\n",
        "            x[i]=str(x[i])\n",
        "            try:\n",
        "              if '/' in x[i]:\n",
        "                # print(frac(x[i]))\n",
        "                formula.append(f'(x - frac({x[i]}))')\n",
        "              else:\n",
        "                formula.append(f'(x - {x[i]})')\n",
        "            except:\n",
        "              print('err')\n",
        "              formula.append(f'(x - {x[i]})')\n",
        "            \n",
        "    if index < len(constant_vector) - 1:\n",
        "        print(\" + \", end = \"\")\n",
        "        formula.append(\" + \")"
      ],
      "execution_count": 0,
      "outputs": [
        {
          "output_type": "stream",
          "text": [
            "Formula: 3 + 26(x - 1) + -53/5(x - 1)(x - 1/2) + 853/360(x - 1)(x - 1/2)(x - 3)"
          ],
          "name": "stdout"
        }
      ]
    },
    {
      "cell_type": "markdown",
      "metadata": {
        "id": "r11XCJCnx2qz",
        "colab_type": "text"
      },
      "source": [
        "# Get value Y from X based on Polynomial Equation\n"
      ]
    },
    {
      "cell_type": "code",
      "metadata": {
        "id": "lKy8_DoX4jrZ",
        "colab_type": "code",
        "outputId": "b9088b80-53a9-472d-c848-d29de3e689d6",
        "colab": {
          "base_uri": "https://localhost:8080/",
          "height": 34
        }
      },
      "source": [
        "''.join(formula)"
      ],
      "execution_count": 0,
      "outputs": [
        {
          "output_type": "execute_result",
          "data": {
            "text/plain": [
              "\"3 + 26(x - 1) + frac('-53/5')(x - 1)(x - frac(1/2)) + frac('853/360')(x - 1)(x - frac(1/2))(x - 3)\""
            ]
          },
          "metadata": {
            "tags": []
          },
          "execution_count": 98
        }
      ]
    },
    {
      "cell_type": "code",
      "metadata": {
        "id": "dH87llCG6srJ",
        "colab_type": "code",
        "outputId": "b07e1626-8c6b-4f6e-dddd-2ce16c3014cd",
        "colab": {
          "base_uri": "https://localhost:8080/",
          "height": 235
        }
      },
      "source": [
        "formula"
      ],
      "execution_count": 0,
      "outputs": [
        {
          "output_type": "execute_result",
          "data": {
            "text/plain": [
              "['3',\n",
              " ' + ',\n",
              " '26',\n",
              " '(x - 1)',\n",
              " ' + ',\n",
              " \"frac('-53/5')\",\n",
              " '(x - 1)',\n",
              " '(x - frac(1/2))',\n",
              " ' + ',\n",
              " \"frac('853/360')\",\n",
              " '(x - 1)',\n",
              " '(x - frac(1/2))',\n",
              " '(x - 3)']"
            ]
          },
          "metadata": {
            "tags": []
          },
          "execution_count": 97
        }
      ]
    },
    {
      "cell_type": "code",
      "metadata": {
        "id": "zMn1NrYJspRe",
        "colab_type": "code",
        "colab": {}
      },
      "source": [
        "test1 = ''.join(formula).replace('(','*(').replace('x','a')"
      ],
      "execution_count": 0,
      "outputs": []
    },
    {
      "cell_type": "code",
      "metadata": {
        "id": "iGUAM1mKtTsL",
        "colab_type": "code",
        "outputId": "44619ebf-cb8e-4b5c-8dbb-7af7dab74ead",
        "colab": {
          "base_uri": "https://localhost:8080/",
          "height": 34
        }
      },
      "source": [
        "test1"
      ],
      "execution_count": 0,
      "outputs": [
        {
          "output_type": "execute_result",
          "data": {
            "text/plain": [
              "'3 + 26*(a - 1) + -53/5*(a - 1)*(a - 1/2) + 853/360*(a - 1)*(a - 1/2)*(a - 3)'"
            ]
          },
          "metadata": {
            "tags": []
          },
          "execution_count": 65
        }
      ]
    },
    {
      "cell_type": "code",
      "metadata": {
        "id": "Sfz7rlpXt5KL",
        "colab_type": "code",
        "outputId": "20f5664a-a72f-46c1-beb2-fb55108ba39c",
        "colab": {
          "base_uri": "https://localhost:8080/",
          "height": 101
        }
      },
      "source": [
        "# expression to be evaluated \n",
        "expr = test1\n",
        "\n",
        "# variable used in expression \n",
        "a = input(\"Enter the value of x:\")\n",
        "if '/' in a:\n",
        "  a=eval(a)\n",
        "else:\n",
        "  a = int(a)\n",
        "print(a)\n",
        "# evaluating expression \n",
        "Y = eval(expr)\n",
        "print(Y)\n",
        "print(round(Y,4)) \n",
        "print('Y =', frac(round(Y,4)))"
      ],
      "execution_count": 0,
      "outputs": [
        {
          "output_type": "stream",
          "text": [
            "Enter the value of x:2/5\n",
            "0.4\n",
            "-13.605633333333332\n",
            "-13.6056\n",
            "Y = -7659271886269003/562949953421312\n"
          ],
          "name": "stdout"
        }
      ]
    },
    {
      "cell_type": "code",
      "metadata": {
        "id": "1MP1nqCJ18PC",
        "colab_type": "code",
        "outputId": "b4434067-5573-49e8-b543-f482c0693368",
        "colab": {
          "base_uri": "https://localhost:8080/",
          "height": 34
        }
      },
      "source": [
        "print(3 + 26*(2/5 - 1) + frac(-53,5)*(2/5 - 1)*(2/5 - frac(1,2)) + frac(853,360)*(2/5 - 1)*(2/5 - frac(1,2))*(2/5 - 3))"
      ],
      "execution_count": 0,
      "outputs": [
        {
          "output_type": "stream",
          "text": [
            "-13.605633333333332\n"
          ],
          "name": "stdout"
        }
      ]
    },
    {
      "cell_type": "code",
      "metadata": {
        "id": "siFZZDQ02GUg",
        "colab_type": "code",
        "outputId": "4f889667-57e1-4d7a-fb3b-d0df044a88cf",
        "colab": {
          "base_uri": "https://localhost:8080/",
          "height": 34
        }
      },
      "source": [
        "print(3 + 26*(frac(2,5) - 1) + frac(-53,5)*(frac(2,5) - 1)*(frac(2,5) - frac(1,2)) + frac(853,360)*(frac(2,5) - 1)*(frac(2,5) - frac(1,2))*(frac(2,5) - 3))"
      ],
      "execution_count": 0,
      "outputs": [
        {
          "output_type": "stream",
          "text": [
            "-408169/30000\n"
          ],
          "name": "stdout"
        }
      ]
    }
  ]
}